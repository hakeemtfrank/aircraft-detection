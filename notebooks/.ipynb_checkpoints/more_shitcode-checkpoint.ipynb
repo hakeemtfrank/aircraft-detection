{
 "cells": [
  {
   "cell_type": "markdown",
   "metadata": {},
   "source": [
    "## Experiment Code\n",
    "\n",
    "- Support Vector Machine with RBF Kernel\n",
    "- Logistic Regression"
   ]
  },
  {
   "cell_type": "code",
   "execution_count": 1,
   "metadata": {},
   "outputs": [
    {
     "name": "stderr",
     "output_type": "stream",
     "text": [
      "Using TensorFlow backend.\n"
     ]
    }
   ],
   "source": [
    "from gpcv import datasets, preprocessing, optimizers\n",
    "\n",
    "import numpy as np\n",
    "import pandas as pd\n",
    "import time\n",
    "\n",
    "\n",
    "from sklearn.gaussian_process import GaussianProcessClassifier\n",
    "from sklearn.gaussian_process import kernels as kern\n",
    "from sklearn.model_selection import StratifiedKFold\n",
    "from sklearn.preprocessing import LabelBinarizer\n",
    "from sklearn.pipeline import Pipeline\n",
    "from sklearn.metrics import accuracy_score, f1_score, recall_score, precision_score, roc_auc_score\n",
    "\n",
    "from sklearn.svm import SVC\n",
    "from sklearn.tree import DecisionTreeClassifier"
   ]
  },
  {
   "cell_type": "code",
   "execution_count": 2,
   "metadata": {},
   "outputs": [],
   "source": [
    "# data settings\n",
    "target = ['airplane']\n",
    "new_dim = (50,50)\n",
    "classes = ['airplane','freeway','buildings','harbor','intersection','overpass','parkinglot','runway'] # classes to include\n",
    "n_clusters = 200\n",
    "balance_classes = False\n",
    "\n",
    "# model settings\n",
    "kernel = kern.RBF(length_scale=1.0, length_scale_bounds=(1.0,8.0)) ## gp kernel\n",
    "optimizer = 'fmin_l_bfgs_b' #optimizers.optimizer # ## optimizer\n",
    "n_restarts = 0 ## optimizer restarts\n",
    "random_state = 12 ## random seed\n",
    "k_folds = 2"
   ]
  },
  {
   "cell_type": "code",
   "execution_count": 3,
   "metadata": {},
   "outputs": [],
   "source": [
    "## Speed Metrics\n",
    "training_times = []\n",
    "prediction_times = []\n",
    "\n",
    "## Accuracy Metrics\n",
    "accuracy_scores = []\n",
    "precision_scores = []\n",
    "recall_scores = []\n",
    "auc_scores = []\n",
    "f1_scores = []\n",
    "\n",
    "## Fitted Parameters\n",
    "posterior_lik = []\n",
    "posterior_params = []"
   ]
  },
  {
   "cell_type": "code",
   "execution_count": 4,
   "metadata": {},
   "outputs": [],
   "source": [
    "# load in data\n",
    "X, y = datasets.load_image_data(data_path='../data/', vectorize=True, classes=classes) \n",
    "\n",
    "if len(target) == 2:\n",
    "    # make binary problem\n",
    "    lb = LabelBinarizer()\n",
    "    lb.fit(target) \n",
    "    y = lb.transform(y)\n",
    "    \n",
    "    \n",
    "## Multiclass to binary\n",
    "\n",
    "    \n",
    "# balance classes; downsample with BalanceClasses or upsample with Albumentations\n",
    "if balance_classes == True:\n",
    "    X, y = preprocessing.BalanceClasses().transform(X, y)"
   ]
  },
  {
   "cell_type": "code",
   "execution_count": 5,
   "metadata": {},
   "outputs": [
    {
     "data": {
      "text/plain": [
       "(800, 256, 256, 3)"
      ]
     },
     "execution_count": 5,
     "metadata": {},
     "output_type": "execute_result"
    }
   ],
   "source": [
    "X.shape"
   ]
  },
  {
   "cell_type": "code",
   "execution_count": 7,
   "metadata": {},
   "outputs": [],
   "source": [
    "## Multiclass to binary\n",
    "def transform(y, X=None):\n",
    "    \"\"\"\n",
    "    Change multiclass to binary\n",
    "    \"\"\"\n",
    "    y = np.where(y == target, True, False)\n",
    "    return y"
   ]
  },
  {
   "cell_type": "code",
   "execution_count": 8,
   "metadata": {},
   "outputs": [],
   "source": [
    "y = transform(y)"
   ]
  },
  {
   "cell_type": "markdown",
   "metadata": {},
   "source": [
    "## Make Pipeline"
   ]
  },
  {
   "cell_type": "code",
   "execution_count": 9,
   "metadata": {},
   "outputs": [],
   "source": [
    "# Transformations\n",
    "data_pipeline = Pipeline([\n",
    "    ('RGB', preprocessing.RGBToGrayscale()),\n",
    "    ('ResizeImages', preprocessing.ResizeImages(new_dim)),\n",
    "    ('SIFT', preprocessing.FeatureDetector(clusters=n_clusters))\n",
    "    #('UnrollImages',preprocessing.UnrollImages())\n",
    "])\n",
    "X_transformed = data_pipeline.fit_transform(X, y)"
   ]
  },
  {
   "cell_type": "code",
   "execution_count": 10,
   "metadata": {},
   "outputs": [
    {
     "data": {
      "text/plain": [
       "(800, 200)"
      ]
     },
     "execution_count": 10,
     "metadata": {},
     "output_type": "execute_result"
    }
   ],
   "source": [
    "X_transformed.shape"
   ]
  },
  {
   "cell_type": "code",
   "execution_count": 11,
   "metadata": {},
   "outputs": [
    {
     "data": {
      "text/plain": [
       "array([1, 0, 0, 3, 0, 0, 0, 0, 2, 0, 0, 0, 0, 0, 0, 0, 0, 0, 0, 0, 1, 0,\n",
       "       0, 0, 0, 0, 1, 0, 8, 0, 0, 0, 0, 0, 0, 0, 0, 0, 0, 0, 0, 0, 1, 0,\n",
       "       0, 0, 0, 0, 0, 0, 0, 0, 0, 0, 0, 0, 0, 0, 1, 0, 0, 0, 0, 0, 0, 0,\n",
       "       0, 0, 0, 0, 0, 0, 0, 0, 0, 1, 0, 0, 0, 0, 0, 0, 0, 0, 0, 0, 0, 0,\n",
       "       0, 0, 0, 0, 0, 0, 0, 0, 1, 0, 0, 0, 1, 0, 0, 0, 0, 0, 0, 0, 0, 0,\n",
       "       0, 0, 0, 0, 0, 0, 0, 0, 0, 0, 0, 0, 0, 0, 0, 0, 0, 0, 0, 0, 0, 0,\n",
       "       0, 0, 0, 0, 0, 0, 1, 0, 0, 0, 1, 1, 0, 0, 0, 0, 0, 1, 0, 0, 0, 0,\n",
       "       1, 0, 0, 0, 0, 0, 0, 0, 0, 0, 0, 0, 0, 0, 0, 3, 0, 0, 0, 0, 0, 0,\n",
       "       0, 0, 0, 0, 0, 0, 1, 0, 0, 0, 0, 0, 0, 0, 0, 0, 0, 0, 0, 0, 0, 1,\n",
       "       0, 1])"
      ]
     },
     "execution_count": 11,
     "metadata": {},
     "output_type": "execute_result"
    }
   ],
   "source": [
    "X_transformed[0]"
   ]
  },
  {
   "cell_type": "code",
   "execution_count": 22,
   "metadata": {},
   "outputs": [
    {
     "data": {
      "text/plain": [
       "array([1, 0, 0, 0, 0, 0, 0, 0, 0, 0, 0, 0, 0, 0, 0, 0, 0, 0, 0, 0, 0, 1,\n",
       "       0, 0, 0, 0, 0, 0, 0, 0, 0, 0, 0, 0, 0, 0, 0, 0, 0, 0, 0, 0, 0, 0,\n",
       "       0, 0, 0, 1, 0, 2, 0, 0, 0, 0, 0, 0, 0, 0, 1, 0, 0, 1, 0, 0, 0, 0,\n",
       "       0, 0, 0, 1, 0, 0, 0, 0, 0, 0, 1, 0, 0, 0, 0, 0, 0, 0, 0, 0, 0, 0,\n",
       "       0, 0, 0, 0, 1, 0, 0, 0, 1, 0, 0, 0, 1, 0, 0, 0, 0, 0, 0, 1, 0, 0,\n",
       "       0, 0, 0, 0, 0, 0, 0, 0, 0, 0, 0, 0, 0, 0, 0, 0, 0, 0, 0, 0, 0, 0,\n",
       "       0, 0, 0, 3, 1, 0, 0, 0, 0, 0, 0, 0, 0, 0, 0, 1, 0, 2, 0, 0, 0, 0,\n",
       "       1, 0, 0, 0, 0, 0, 0, 0, 0, 0, 0, 0, 0, 0, 0, 0, 0, 0, 0, 0, 0, 0,\n",
       "       0, 0, 0, 0, 0, 0, 0, 0, 0, 0, 0, 0, 0, 0, 0, 0, 0, 0, 0, 0, 0, 0,\n",
       "       0, 1])"
      ]
     },
     "execution_count": 22,
     "metadata": {},
     "output_type": "execute_result"
    }
   ],
   "source": [
    "X_transformed[y==True][5]"
   ]
  },
  {
   "cell_type": "code",
   "execution_count": 443,
   "metadata": {},
   "outputs": [],
   "source": [
    "from sklearn.decomposition import PCA\n",
    "import seaborn as sns\n",
    "import matplotlib.pyplot as plt"
   ]
  },
  {
   "cell_type": "code",
   "execution_count": 444,
   "metadata": {},
   "outputs": [],
   "source": [
    "princ = PCA(n_components=2)\n",
    "X_pca = princ.fit_transform(X_transformed)"
   ]
  },
  {
   "cell_type": "code",
   "execution_count": 445,
   "metadata": {},
   "outputs": [
    {
     "data": {
      "text/plain": [
       "(800, 2)"
      ]
     },
     "execution_count": 445,
     "metadata": {},
     "output_type": "execute_result"
    }
   ],
   "source": [
    "X_pca.shape"
   ]
  },
  {
   "cell_type": "code",
   "execution_count": 446,
   "metadata": {},
   "outputs": [
    {
     "data": {
      "text/plain": [
       "(800, 200)"
      ]
     },
     "execution_count": 446,
     "metadata": {},
     "output_type": "execute_result"
    }
   ],
   "source": [
    "X_transformed.shape"
   ]
  },
  {
   "cell_type": "code",
   "execution_count": 423,
   "metadata": {},
   "outputs": [],
   "source": [
    "pca_df = pd.DataFrame({'z1':X_pca[:,0], 'z2':X_pca[:,1], 'label':y})"
   ]
  },
  {
   "cell_type": "code",
   "execution_count": 447,
   "metadata": {},
   "outputs": [
    {
     "data": {
      "text/plain": [
       "<matplotlib.legend.Legend at 0x1a4cd836a0>"
      ]
     },
     "execution_count": 447,
     "metadata": {},
     "output_type": "execute_result"
    },
    {
     "data": {
      "image/png": "[encoded data removed]",
      "text/plain": [
       "<Figure size 432x288 with 1 Axes>"
      ]
     },
     "metadata": {
      "needs_background": "light"
     },
     "output_type": "display_data"
    }
   ],
   "source": [
    "sns.scatterplot(x = pca_df['z1'], y=pca_df['z2'], hue=pca_df['label'])\n",
    "plt.legend()"
   ]
  },
  {
   "cell_type": "code",
   "execution_count": 448,
   "metadata": {},
   "outputs": [],
   "source": [
    "gp_prior = GaussianProcessClassifier(kernel=kernel, random_state=random_state, optimizer=optimizer, n_restarts_optimizer=n_restarts)\n",
    "tree_clf = DecisionTreeClassifier()\n",
    "models = [gp_prior, tree_clf]"
   ]
  },
  {
   "cell_type": "code",
   "execution_count": 449,
   "metadata": {},
   "outputs": [],
   "source": [
    "## Training Class\n",
    "\n",
    "skf = StratifiedKFold(n_splits=k_folds, random_state=random_state)\n",
    "skf.get_n_splits(X_transformed)\n",
    "for train_index, test_index in skf.split(X_transformed,y):\n",
    "    \n",
    "    ## Train test split\n",
    "    X_train, X_test = X_transformed[train_index], X_transformed[test_index]\n",
    "    y_train, y_test = y[train_index], y[test_index]\n",
    "    \n",
    "    start_train_time = time.time()\n",
    "    #gp_prior = GaussianProcessClassifier(kernel=kernel, random_state=random_state, optimizer=optimizer, n_restarts_optimizer=n_restarts)\n",
    "    model_fit = models[0].fit(X_train, y_train)\n",
    "    training_time = time.time() - start_train_time\n",
    "    \n",
    "    start_predict_time = time.time()\n",
    "    yhat = model_fit.predict(X_test) ## Note: may want to add predict_proba\n",
    "    prediction_time = time.time() - start_predict_time\n",
    "    \n",
    "    \n",
    "    ## Fitted parameters\n",
    "    loglik = model_fit.log_marginal_likelihood_value_\n",
    "    fitted_params = model_fit.kernel_.get_params()\n",
    "    ## later: want to store the likelihoods of a grid of thetas to find the maximum likelihood\n",
    "    \n",
    "    ## Accuracy metrics\n",
    "    accuracy = accuracy_score(y_test, yhat)\n",
    "    precision = precision_score(y_test, yhat)\n",
    "    recall = recall_score(y_test, yhat)\n",
    "    auc = roc_auc_score(y_test, yhat)\n",
    "    f1 = f1_score(y_test, yhat)\n",
    "    \n",
    "    ## Log fold\n",
    "    training_times.append(training_time)\n",
    "    prediction_times.append(prediction_time)\n",
    "    accuracy_scores.append(accuracy)\n",
    "    precision_scores.append(precision)\n",
    "    recall_scores.append(recall)\n",
    "    auc_scores.append(auc)\n",
    "    f1_scores.append(f1)\n",
    "    \n",
    "    posterior_lik.append(loglik)\n",
    "    posterior_params.append(fitted_params)\n",
    "\n",
    "## Note: Store results in MLFlow as a list per experiment. This is where log_param would go.\n",
    "## Note: Serialize the SKF object to remember the training folds."
   ]
  },
  {
   "cell_type": "code",
   "execution_count": 450,
   "metadata": {},
   "outputs": [],
   "source": [
    "results = {'pipeline':str(data_pipeline.steps),\n",
    "           'kernel':kernel,\n",
    "           'optimizer':optimizer,\n",
    "           'n_restarts_optimizer':n_restarts,\n",
    "          'posterior log marginal likelihood': posterior_lik,\n",
    "          'posterior theta': posterior_params,\n",
    "          'accuracy':accuracy_scores,\n",
    "           'precision':precision_scores,\n",
    "           'recall':recall_scores,\n",
    "           'roc auc score':auc_scores,\n",
    "           'f1 score':f1_scores,\n",
    "          'mean accuracy':np.mean(accuracy_scores),\n",
    "          'mean auc':np.mean(auc_scores),\n",
    "          'std accuracy':np.std(accuracy_scores),\n",
    "          'std auc':np.std(auc_scores),\n",
    "          'training time':training_times,\n",
    "          'prediction time':prediction_times,\n",
    "          'mean training time':np.mean(training_times),\n",
    "          'mean prediction time':np.mean(prediction_times),\n",
    "          'std training time':np.std(training_times),\n",
    "          'std prediction time':np.std(prediction_times)}"
   ]
  },
  {
   "cell_type": "code",
   "execution_count": 451,
   "metadata": {},
   "outputs": [],
   "source": [
    "import pandas as pd"
   ]
  },
  {
   "cell_type": "code",
   "execution_count": 452,
   "metadata": {},
   "outputs": [],
   "source": [
    "df= pd.DataFrame(results)"
   ]
  },
  {
   "cell_type": "code",
   "execution_count": 453,
   "metadata": {},
   "outputs": [
    {
     "data": {
      "text/html": [
       "<div>\n",
       "<style scoped>\n",
       "    .dataframe tbody tr th:only-of-type {\n",
       "        vertical-align: middle;\n",
       "    }\n",
       "\n",
       "    .dataframe tbody tr th {\n",
       "        vertical-align: top;\n",
       "    }\n",
       "\n",
       "    .dataframe thead th {\n",
       "        text-align: right;\n",
       "    }\n",
       "</style>\n",
       "<table border=\"1\" class=\"dataframe\">\n",
       "  <thead>\n",
       "    <tr style=\"text-align: right;\">\n",
       "      <th></th>\n",
       "      <th>pipeline</th>\n",
       "      <th>kernel</th>\n",
       "      <th>optimizer</th>\n",
       "      <th>n_restarts_optimizer</th>\n",
       "      <th>posterior log marginal likelihood</th>\n",
       "      <th>posterior theta</th>\n",
       "      <th>accuracy</th>\n",
       "      <th>precision</th>\n",
       "      <th>recall</th>\n",
       "      <th>roc auc score</th>\n",
       "      <th>...</th>\n",
       "      <th>mean accuracy</th>\n",
       "      <th>mean auc</th>\n",
       "      <th>std accuracy</th>\n",
       "      <th>std auc</th>\n",
       "      <th>training time</th>\n",
       "      <th>prediction time</th>\n",
       "      <th>mean training time</th>\n",
       "      <th>mean prediction time</th>\n",
       "      <th>std training time</th>\n",
       "      <th>std prediction time</th>\n",
       "    </tr>\n",
       "  </thead>\n",
       "  <tbody>\n",
       "    <tr>\n",
       "      <td>0</td>\n",
       "      <td>[('RGB', RGBToGrayscale()), ('ResizeImages', R...</td>\n",
       "      <td>RBF(length_scale=1)</td>\n",
       "      <td>fmin_l_bfgs_b</td>\n",
       "      <td>0</td>\n",
       "      <td>-162.260935</td>\n",
       "      <td>{'length_scale': 7.999999999999998, 'length_sc...</td>\n",
       "      <td>0.875</td>\n",
       "      <td>0.0</td>\n",
       "      <td>0.0</td>\n",
       "      <td>0.5</td>\n",
       "      <td>...</td>\n",
       "      <td>0.875</td>\n",
       "      <td>0.5</td>\n",
       "      <td>0.0</td>\n",
       "      <td>0.0</td>\n",
       "      <td>0.099852</td>\n",
       "      <td>0.028709</td>\n",
       "      <td>0.087269</td>\n",
       "      <td>0.028936</td>\n",
       "      <td>0.012583</td>\n",
       "      <td>0.000227</td>\n",
       "    </tr>\n",
       "    <tr>\n",
       "      <td>1</td>\n",
       "      <td>[('RGB', RGBToGrayscale()), ('ResizeImages', R...</td>\n",
       "      <td>RBF(length_scale=1)</td>\n",
       "      <td>fmin_l_bfgs_b</td>\n",
       "      <td>0</td>\n",
       "      <td>-163.389308</td>\n",
       "      <td>{'length_scale': 7.999999999999998, 'length_sc...</td>\n",
       "      <td>0.875</td>\n",
       "      <td>0.0</td>\n",
       "      <td>0.0</td>\n",
       "      <td>0.5</td>\n",
       "      <td>...</td>\n",
       "      <td>0.875</td>\n",
       "      <td>0.5</td>\n",
       "      <td>0.0</td>\n",
       "      <td>0.0</td>\n",
       "      <td>0.074686</td>\n",
       "      <td>0.029162</td>\n",
       "      <td>0.087269</td>\n",
       "      <td>0.028936</td>\n",
       "      <td>0.012583</td>\n",
       "      <td>0.000227</td>\n",
       "    </tr>\n",
       "  </tbody>\n",
       "</table>\n",
       "<p>2 rows × 21 columns</p>\n",
       "</div>"
      ],
      "text/plain": [
       "                                            pipeline               kernel  \\\n",
       "0  [('RGB', RGBToGrayscale()), ('ResizeImages', R...  RBF(length_scale=1)   \n",
       "1  [('RGB', RGBToGrayscale()), ('ResizeImages', R...  RBF(length_scale=1)   \n",
       "\n",
       "       optimizer  n_restarts_optimizer  posterior log marginal likelihood  \\\n",
       "0  fmin_l_bfgs_b                     0                        -162.260935   \n",
       "1  fmin_l_bfgs_b                     0                        -163.389308   \n",
       "\n",
       "                                     posterior theta  accuracy  precision  \\\n",
       "0  {'length_scale': 7.999999999999998, 'length_sc...     0.875        0.0   \n",
       "1  {'length_scale': 7.999999999999998, 'length_sc...     0.875        0.0   \n",
       "\n",
       "   recall  roc auc score  ...  mean accuracy  mean auc  std accuracy  std auc  \\\n",
       "0     0.0            0.5  ...          0.875       0.5           0.0      0.0   \n",
       "1     0.0            0.5  ...          0.875       0.5           0.0      0.0   \n",
       "\n",
       "   training time  prediction time  mean training time  mean prediction time  \\\n",
       "0       0.099852         0.028709            0.087269              0.028936   \n",
       "1       0.074686         0.029162            0.087269              0.028936   \n",
       "\n",
       "   std training time  std prediction time  \n",
       "0           0.012583             0.000227  \n",
       "1           0.012583             0.000227  \n",
       "\n",
       "[2 rows x 21 columns]"
      ]
     },
     "execution_count": 453,
     "metadata": {},
     "output_type": "execute_result"
    }
   ],
   "source": [
    "df"
   ]
  },
  {
   "cell_type": "markdown",
   "metadata": {},
   "source": [
    "### Results\n",
    "\n",
    "The decision tree is performing decently with the current balance of classes. I suspect that the issue is with the optimizer used in GaussianProcessClassifier. My next step will be to run the experiments with:\n",
    "\n",
    "- Support Vector Machine\n",
    "- Logistic Regression\n",
    "- Random Forest Classifier\n",
    "- Convolutional Neural Network (time permitting)\n",
    "\n",
    "Afterward, GPy and GPyTorch will be used to create this GP model. We will log the results of the experiments last. \n",
    "\n",
    "Dr. Risk offered to help debug.\n",
    "\n",
    "I will provide a script that prepares the dataset (numpy arrays) given the raw images. \n",
    "\n",
    "That way all he has to do is \n",
    "\n",
    "- gp = GaussianProcessClassifier(experiment_id, parameters)\n",
    "- gp.fit(X, y)\n",
    "- gp.predict(X, y)\n",
    "- gp.log_settings()\n",
    "- gp.log_fold()\n",
    "- gp.log_diagnostics()\n",
    "\n",
    "In the meantime, I will proceed with writing the rest of the thesis. I have results for MNIST with the DotProduct, RationalQuadratic, Polynomial kernels. These are non-stationary kernels that I suspect are particularly effective for image data. \n",
    "\n",
    "My thesis focuses on the choice of kernel for image data. "
   ]
  },
  {
   "cell_type": "code",
   "execution_count": 436,
   "metadata": {},
   "outputs": [
    {
     "data": {
      "text/plain": [
       "(800, 200)"
      ]
     },
     "execution_count": 436,
     "metadata": {},
     "output_type": "execute_result"
    }
   ],
   "source": [
    "X_transformed.shape"
   ]
  },
  {
   "cell_type": "code",
   "execution_count": null,
   "metadata": {},
   "outputs": [],
   "source": []
  }
 ],
 "metadata": {
  "kernelspec": {
   "display_name": "aircraft-detection",
   "language": "python",
   "name": "aircraft-detection"
  },
  "language_info": {
   "codemirror_mode": {
    "name": "ipython",
    "version": 3
   },
   "file_extension": ".py",
   "mimetype": "text/x-python",
   "name": "python",
   "nbconvert_exporter": "python",
   "pygments_lexer": "ipython3",
   "version": "3.8.5"
  }
 },
 "nbformat": 4,
 "nbformat_minor": 4
}
